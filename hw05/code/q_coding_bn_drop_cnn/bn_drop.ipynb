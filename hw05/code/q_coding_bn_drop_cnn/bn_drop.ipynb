{
  "cells": [
    {
      "cell_type": "markdown",
      "metadata": {
        "id": "4gZ8eO4XXQcR"
      },
      "source": [
        "# Setup Environment\n",
        "\n",
        "If you are working on this assignment using Google Colab, please execute the codes below.\n",
        "\n",
        "Alternatively, you can also do this assignment using a local anaconda environment (or a Python virtualenv). Please clone the GitHub repo by running `git clone https://github.com/Berkeley-CS182/cs182hw5.git`."
      ]
    },
    {
      "cell_type": "code",
      "execution_count": 2,
      "metadata": {
        "id": "e7rbTc0tXQcV",
        "colab": {
          "base_uri": "https://localhost:8080/"
        },
        "outputId": "f0e0fed0-e069-4533-9839-0311bf071ae0"
      },
      "outputs": [
        {
          "output_type": "stream",
          "name": "stdout",
          "text": [
            "Mounted at /content/gdrive\n"
          ]
        }
      ],
      "source": [
        "#@title Mount your Google Drive\n",
        "\n",
        "import os\n",
        "from google.colab import drive\n",
        "drive.mount('/content/gdrive')"
      ]
    },
    {
      "cell_type": "code",
      "execution_count": 2,
      "metadata": {
        "id": "nI4ifUhyXQcX",
        "colab": {
          "base_uri": "https://localhost:8080/"
        },
        "outputId": "6b0c5d32-3add-4adb-f804-f3d64b69fea4"
      },
      "outputs": [
        {
          "output_type": "stream",
          "name": "stderr",
          "text": [
            "<>:3: SyntaxWarning: invalid escape sequence '\\ '\n",
            "<>:3: SyntaxWarning: invalid escape sequence '\\ '\n",
            "/tmp/ipython-input-836890834.py:3: SyntaxWarning: invalid escape sequence '\\ '\n",
            "  DRIVE_PATH = '/content/gdrive/My\\ Drive/cs182hw5_fa25'\n"
          ]
        }
      ],
      "source": [
        "#@title Set up mount symlink\n",
        "\n",
        "DRIVE_PATH = '/content/gdrive/My\\ Drive/cs182hw5_fa25'\n",
        "DRIVE_PYTHON_PATH = DRIVE_PATH.replace('\\\\', '')\n",
        "if not os.path.exists(DRIVE_PYTHON_PATH):\n",
        "  %mkdir $DRIVE_PATH\n",
        "\n",
        "## the space in `My Drive` causes some issues,\n",
        "## make a symlink to avoid this\n",
        "SYM_PATH = '/content/cs182hw5'\n",
        "if not os.path.exists(SYM_PATH):\n",
        "  !ln -s $DRIVE_PATH $SYM_PATH"
      ]
    },
    {
      "cell_type": "code",
      "execution_count": 3,
      "metadata": {
        "id": "nlEAlR6xXQcX",
        "colab": {
          "base_uri": "https://localhost:8080/"
        },
        "outputId": "c9e283d5-ac8f-4654-a180-b0d9bbc58014"
      },
      "outputs": [
        {
          "output_type": "stream",
          "name": "stdout",
          "text": [
            "Requirement already satisfied: numpy in /usr/local/lib/python3.12/dist-packages (2.0.2)\n",
            "Requirement already satisfied: imageio in /usr/local/lib/python3.12/dist-packages (2.37.0)\n",
            "Requirement already satisfied: matplotlib in /usr/local/lib/python3.12/dist-packages (3.10.0)\n",
            "Requirement already satisfied: pillow>=8.3.2 in /usr/local/lib/python3.12/dist-packages (from imageio) (11.3.0)\n",
            "Requirement already satisfied: contourpy>=1.0.1 in /usr/local/lib/python3.12/dist-packages (from matplotlib) (1.3.3)\n",
            "Requirement already satisfied: cycler>=0.10 in /usr/local/lib/python3.12/dist-packages (from matplotlib) (0.12.1)\n",
            "Requirement already satisfied: fonttools>=4.22.0 in /usr/local/lib/python3.12/dist-packages (from matplotlib) (4.60.1)\n",
            "Requirement already satisfied: kiwisolver>=1.3.1 in /usr/local/lib/python3.12/dist-packages (from matplotlib) (1.4.9)\n",
            "Requirement already satisfied: packaging>=20.0 in /usr/local/lib/python3.12/dist-packages (from matplotlib) (25.0)\n",
            "Requirement already satisfied: pyparsing>=2.3.1 in /usr/local/lib/python3.12/dist-packages (from matplotlib) (3.2.5)\n",
            "Requirement already satisfied: python-dateutil>=2.7 in /usr/local/lib/python3.12/dist-packages (from matplotlib) (2.9.0.post0)\n",
            "Requirement already satisfied: six>=1.5 in /usr/local/lib/python3.12/dist-packages (from python-dateutil>=2.7->matplotlib) (1.17.0)\n"
          ]
        }
      ],
      "source": [
        "#@title Install dependencies\n",
        "\n",
        "!pip install numpy imageio matplotlib"
      ]
    },
    {
      "cell_type": "code",
      "execution_count": 4,
      "metadata": {
        "id": "O1Q-yFE8XQcY",
        "colab": {
          "base_uri": "https://localhost:8080/"
        },
        "outputId": "3e883b71-629e-44c6-c5c4-04fceebb161d"
      },
      "outputs": [
        {
          "output_type": "stream",
          "name": "stdout",
          "text": [
            "/content/gdrive/My Drive/cs182hw5_fa25\n",
            "Cloning into 'cs182hw5'...\n",
            "remote: Enumerating objects: 37, done.\u001b[K\n",
            "remote: Counting objects: 100% (37/37), done.\u001b[K\n",
            "remote: Compressing objects: 100% (27/27), done.\u001b[K\n",
            "remote: Total 37 (delta 11), reused 34 (delta 9), pack-reused 0 (from 0)\u001b[K\n",
            "Receiving objects: 100% (37/37), 47.05 KiB | 169.00 KiB/s, done.\n",
            "Resolving deltas: 100% (11/11), done.\n",
            "/content/gdrive/My Drive/cs182hw5_fa25/cs182hw5\n"
          ]
        }
      ],
      "source": [
        "#@title Clone homework repo\n",
        "\n",
        "%cd $SYM_PATH\n",
        "if not os.path.exists(\"cs182hw5\"):\n",
        "  !git clone https://github.com/Berkeley-CS182/cs182hw5.git\n",
        "%cd cs182hw5"
      ]
    },
    {
      "cell_type": "code",
      "execution_count": 5,
      "metadata": {
        "id": "0gYGhWexXQcY",
        "colab": {
          "base_uri": "https://localhost:8080/"
        },
        "outputId": "27dffbd7-e7e5-4a04-dbc2-30c1bb3cf6d3"
      },
      "outputs": [
        {
          "output_type": "stream",
          "name": "stdout",
          "text": [
            "/content/gdrive/My Drive/cs182hw5_fa25/cs182hw5/deeplearning/datasets\n",
            "--2025-10-16 05:55:00--  http://www.cs.toronto.edu/~kriz/cifar-10-python.tar.gz\n",
            "Resolving www.cs.toronto.edu (www.cs.toronto.edu)... 128.100.3.30\n",
            "Connecting to www.cs.toronto.edu (www.cs.toronto.edu)|128.100.3.30|:80... connected.\n",
            "HTTP request sent, awaiting response... 200 OK\n",
            "Length: 170498071 (163M) [application/x-gzip]\n",
            "Saving to: ‘cifar-10-python.tar.gz’\n",
            "\n",
            "cifar-10-python.tar 100%[===================>] 162.60M  15.9MB/s    in 12s     \n",
            "\n",
            "2025-10-16 05:55:13 (14.1 MB/s) - ‘cifar-10-python.tar.gz’ saved [170498071/170498071]\n",
            "\n",
            "cifar-10-batches-py/\n",
            "cifar-10-batches-py/data_batch_4\n",
            "cifar-10-batches-py/readme.html\n",
            "cifar-10-batches-py/test_batch\n",
            "cifar-10-batches-py/data_batch_3\n",
            "cifar-10-batches-py/batches.meta\n",
            "cifar-10-batches-py/data_batch_2\n",
            "cifar-10-batches-py/data_batch_5\n",
            "cifar-10-batches-py/data_batch_1\n",
            "/content/gdrive/MyDrive/cs182hw5_fa25/cs182hw5\n"
          ]
        }
      ],
      "source": [
        "#@title Download datasets\n",
        "\n",
        "%cd deeplearning/datasets/\n",
        "!bash ./get_datasets.sh\n",
        "%cd ../.."
      ]
    },
    {
      "cell_type": "code",
      "execution_count": 6,
      "metadata": {
        "id": "64x00W-aXQcY",
        "colab": {
          "base_uri": "https://localhost:8080/"
        },
        "outputId": "ca918b6a-c775-4c75-cd9e-ad8a4c3512f0"
      },
      "outputs": [
        {
          "output_type": "stream",
          "name": "stdout",
          "text": [
            "Requirement already satisfied: IPython in /usr/local/lib/python3.12/dist-packages (7.34.0)\n",
            "Collecting IPython\n",
            "  Downloading ipython-9.6.0-py3-none-any.whl.metadata (4.4 kB)\n",
            "Downloading ipython-9.6.0-py3-none-any.whl (616 kB)\n",
            "\u001b[2K   \u001b[90m━━━━━━━━━━━━━━━━━━━━━━━━━━━━━━━━━━━━━━━━\u001b[0m \u001b[32m616.2/616.2 kB\u001b[0m \u001b[31m7.3 MB/s\u001b[0m eta \u001b[36m0:00:00\u001b[0m\n",
            "\u001b[?25hInstalling collected packages: IPython\n",
            "  Attempting uninstall: IPython\n",
            "    Found existing installation: ipython 7.34.0\n",
            "    Uninstalling ipython-7.34.0:\n",
            "      Successfully uninstalled ipython-7.34.0\n",
            "Successfully installed IPython-9.6.0\n"
          ]
        }
      ],
      "source": [
        "#@title Configure Jupyter Notebook\n",
        "!pip install --no-deps --upgrade IPython\n",
        "\n",
        "import matplotlib\n",
        "%matplotlib inline\n",
        "%load_ext autoreload\n",
        "%autoreload 2"
      ]
    },
    {
      "cell_type": "markdown",
      "metadata": {
        "id": "YO2ZGeiCXQcZ"
      },
      "source": [
        "# Batch Normalization\n",
        "One way to make deep networks easier to train is to use more sophisticated optimization procedures such as SGD+momentum, RMSProp, or Adam. Another strategy is to change the architecture of the network to make it easier to train. One idea along these lines is batch normalization which was proposed by [1].\n",
        "\n",
        "The idea is relatively straightforward. Machine learning methods tend to work better when their input data consists of uncorrelated features with zero mean and unit variance. When training a neural network, we can preprocess the data before feeding it to the network to explicitly decorrelate its features; this will ensure that the first layer of the network sees data that follows a nice distribution. However even if we preprocess the input data, the activations at deeper layers of the network will likely no longer be decorrelated and will no longer have zero mean or unit variance since they are output from earlier layers in the network. Even worse, during the training process the distribution of features at each layer of the network will shift as the weights of each layer are updated.\n",
        "\n",
        "The authors of [1] hypothesize that the shifting distribution of features inside deep neural networks may make training deep networks more difficult. To overcome this problem, [1] proposes to insert batch normalization layers into the network. At training time, a batch normalization layer uses a minibatch of data to estimate the mean and standard deviation of each feature. These estimated means and standard deviations are then used to center and normalize the features of the minibatch. A running average of these means and standard deviations is kept during training, and at test time these running averages are used to center and normalize features.\n",
        "\n",
        "It is possible that this normalization strategy could reduce the representational power of the network, since it may sometimes be optimal for certain layers to have features that are not zero-mean or unit variance. To this end, the batch normalization layer includes learnable shift and scale parameters for each feature dimension.\n",
        "\n",
        "[1] Sergey Ioffe and Christian Szegedy, \"Batch Normalization: Accelerating Deep Network Training by Reducing\n",
        "Internal Covariate Shift\", ICML 2015."
      ]
    },
    {
      "cell_type": "code",
      "execution_count": 7,
      "metadata": {
        "id": "1VPmTH9AXQcZ"
      },
      "outputs": [],
      "source": [
        "# As usual, a bit of setup\n",
        "\n",
        "import os\n",
        "import time\n",
        "import numpy as np\n",
        "import matplotlib.pyplot as plt\n",
        "from deeplearning.classifiers.fc_net import *\n",
        "from deeplearning.data_utils import get_CIFAR10_data\n",
        "from deeplearning.gradient_check import eval_numerical_gradient, eval_numerical_gradient_array\n",
        "from deeplearning.solver import Solver\n",
        "import random\n",
        "import torch\n",
        "seed = 7\n",
        "torch.manual_seed(seed)\n",
        "random.seed(seed)\n",
        "np.random.seed(seed)\n",
        "\n",
        "plt.rcParams['figure.figsize'] = (10.0, 8.0) # set default size of plots\n",
        "plt.rcParams['image.interpolation'] = 'nearest'\n",
        "plt.rcParams['image.cmap'] = 'gray'\n",
        "\n",
        "os.makedirs(\"submission_logs\", exist_ok=True)\n",
        "\n",
        "def abs_error(x, y):\n",
        "    return np.max(np.abs(x - y))\n",
        "\n",
        "def rel_error(x, y):\n",
        "    \"\"\" returns relative error \"\"\"\n",
        "    return np.max(np.abs(x - y) / (np.maximum(1e-8, np.abs(x) + np.abs(y))))"
      ]
    },
    {
      "cell_type": "code",
      "execution_count": 8,
      "metadata": {
        "id": "ydCGzt7FXQca",
        "colab": {
          "base_uri": "https://localhost:8080/"
        },
        "outputId": "9c2cf131-08f0-4abe-bcdb-52fdb8f88462"
      },
      "outputs": [
        {
          "output_type": "stream",
          "name": "stdout",
          "text": [
            "deeplearning/datasets/cifar-10-batches-py/data_batch_1\n",
            "deeplearning/datasets/cifar-10-batches-py/data_batch_2\n",
            "deeplearning/datasets/cifar-10-batches-py/data_batch_3\n",
            "deeplearning/datasets/cifar-10-batches-py/data_batch_4\n",
            "deeplearning/datasets/cifar-10-batches-py/data_batch_5\n",
            "deeplearning/datasets/cifar-10-batches-py/test_batch\n",
            "X_train:  (49000, 3, 32, 32)\n",
            "y_train:  (49000,)\n",
            "X_val:  (1000, 3, 32, 32)\n",
            "y_val:  (1000,)\n",
            "X_test:  (1000, 3, 32, 32)\n",
            "y_test:  (1000,)\n"
          ]
        }
      ],
      "source": [
        "# Load the (preprocessed) CIFAR10 data.\n",
        "\n",
        "data = get_CIFAR10_data()\n",
        "for k, v in data.items():\n",
        "    print ('%s: ' % k, v.shape)"
      ]
    },
    {
      "cell_type": "markdown",
      "metadata": {
        "id": "wthhVAnuXQca"
      },
      "source": [
        "The forward propagation during training given input $\\mathbf{X}\\in\\mathbb{R}^{n,d}$ is defined as:\n",
        "\n",
        "$$\\begin{aligned}\n",
        "\\mu_j &= \\dfrac1n \\sum_{i=1}^n X_{i,j} \\\\\n",
        "\\sigma^2_j &= \\dfrac{1}{n} \\sum_{i=1}^n (X_{i,j} - \\mu_j)^2 \\\\\n",
        "Y_{i,j} &= \\mathrm{BN}(\\mathbf{X}|\\gamma, \\beta)_{i,j} = \\dfrac{X_{i,j} - \\mu_j}{\\sqrt{\\sigma^2_j + \\epsilon}}\\gamma_j + \\beta_j\n",
        "\\end{aligned}$$\n",
        "\n",
        "It would be helpful if you introduce another intermediate variable $\\mathbf{Z}\\in\\mathbb{R}^{n,d}$:\n",
        "\n",
        "$$\\begin{aligned}\n",
        "\\mu_j &= \\dfrac1n \\sum_{i=1}^n X_{i,j} \\\\\n",
        "\\sigma^2_j &= \\dfrac{1}{n} \\sum_{i=1}^n (X_{i,j} - \\mu_j)^2 \\\\\n",
        "Z_{i,j} &= \\dfrac{X_{i,j} - \\mu_j}{\\sqrt{\\sigma^2_j + \\epsilon}} \\\\\n",
        "Y_{i,j} &= \\mathrm{BN}(\\mathbf{X}|\\gamma, \\beta)_{i,j} = Z_{i,j}\\gamma_j + \\beta_j\n",
        "\\end{aligned}$$\n",
        "\n",
        "### Question\n",
        "\n",
        "**Draw the computational graph of training-time batch normalization** in your written assignment. In input of the computational graph should be $\\mathbf{X}, \\gamma, \\beta$, the output of the computational graph should be $\\mathbf{Y}$, and the intermediate nodes are $\\mu, \\sigma^2, \\mathbf{Z}$.\n"
      ]
    },
    {
      "cell_type": "markdown",
      "metadata": {
        "id": "FvtQvztsXQca"
      },
      "source": [
        "\n",
        "## Batch normalization: Forward\n",
        "\n",
        "In the file `deeplearning/layers.py`, implement the batch normalization forward pass in the function `batchnorm_forward`.\n",
        "\n",
        "Don't forget to record batch statistics such as running mean/var during training.\n",
        "\n",
        "During testing, $\\mu$, and $\\sigma^2$ are running mean and variance that is previously recorded in the training process.\n",
        "\n",
        "Once you have done so, run the following to test your implementation."
      ]
    },
    {
      "cell_type": "code",
      "execution_count": 9,
      "metadata": {
        "id": "5V4lVXXpXQca",
        "colab": {
          "base_uri": "https://localhost:8080/"
        },
        "outputId": "07a27504-011e-48db-fbb8-72fe61f5ef09"
      },
      "outputs": [
        {
          "output_type": "stream",
          "name": "stdout",
          "text": [
            "Before batch normalization:\n",
            "  means:  [-33.90168215  18.46269328  -7.49068667]\n",
            "  stds:  [38.72112268 29.39668975 31.14272252]\n",
            "After batch normalization (gamma=1, beta=0)\n",
            "  mean:  [ 4.62963001e-16  8.99280650e-17 -1.38777878e-17]\n",
            "  std:  [1.         0.99999999 0.99999999]\n",
            "After batch normalization (nontrivial gamma, beta)\n",
            "  means:  [11. 12. 13.]\n",
            "  stds:  [1.         1.99999999 2.99999998]\n"
          ]
        }
      ],
      "source": [
        "# Check the training-time forward pass by checking means and variances\n",
        "# of features both before and after batch normalization\n",
        "\n",
        "# Simulate the forward pass for a two-layer network\n",
        "N, D1, D2, D3 = 200, 50, 60, 3\n",
        "X = np.random.randn(N, D1)\n",
        "W1 = np.random.randn(D1, D2)\n",
        "W2 = np.random.randn(D2, D3)\n",
        "a = np.maximum(0, X.dot(W1)).dot(W2)\n",
        "\n",
        "print ('Before batch normalization:')\n",
        "print ('  means: ', a.mean(axis=0))\n",
        "print ('  stds: ', a.std(axis=0))\n",
        "\n",
        "# Means should be close to zero and stds close to one\n",
        "print ('After batch normalization (gamma=1, beta=0)')\n",
        "a_norm, _ = batchnorm_forward(a, np.ones(D3), np.zeros(D3), {'mode': 'train'})\n",
        "print ('  mean: ', a_norm.mean(axis=0))  # expected: (approx.) [0, 0, 0]\n",
        "print ('  std: ', a_norm.std(axis=0))  # expected: (approx.) [1, 1, 1]\n",
        "\n",
        "# Now means should be close to beta and stds close to gamma\n",
        "gamma = np.asarray([1.0, 2.0, 3.0])\n",
        "beta = np.asarray([11.0, 12.0, 13.0])\n",
        "a_norm, _ = batchnorm_forward(a, gamma, beta, {'mode': 'train'})\n",
        "print ('After batch normalization (nontrivial gamma, beta)')\n",
        "print ('  means: ', a_norm.mean(axis=0))  # expected: (approx.) [11, 12, 13]\n",
        "print ('  stds: ', a_norm.std(axis=0))  # expected: (approx.) [1, 2, 3]"
      ]
    },
    {
      "cell_type": "code",
      "execution_count": 10,
      "metadata": {
        "id": "ie4z6lQuXQcb",
        "colab": {
          "base_uri": "https://localhost:8080/"
        },
        "outputId": "ad4efc34-f96c-4d0c-8df7-ba7098099811"
      },
      "outputs": [
        {
          "output_type": "stream",
          "name": "stdout",
          "text": [
            "After batch normalization (test-time):\n",
            "  means:  [-0.00967681  0.01315673  0.00748036]\n",
            "  stds:  [1.07009997 1.01651564 0.88995918]\n",
            "Abs error of a_norm:  4.3424073226105975e-09\n"
          ]
        }
      ],
      "source": [
        "# Check the test-time forward pass by running the training-time\n",
        "# forward pass many times to warm up the running averages, and then\n",
        "# checking the means and variances of activations after a test-time\n",
        "# forward pass.\n",
        "N, D1, D2, D3 = 200, 50, 60, 3\n",
        "np.random.seed(seed)\n",
        "W1 = np.random.randn(D1, D2)\n",
        "W2 = np.random.randn(D2, D3)\n",
        "\n",
        "bn_param = {'mode': 'train'}\n",
        "gamma = np.ones(D3)\n",
        "beta = np.zeros(D3)\n",
        "for t in range(50):\n",
        "    X = np.random.randn(N, D1)\n",
        "    a = np.maximum(0, X.dot(W1)).dot(W2)\n",
        "    batchnorm_forward(a, gamma, beta, bn_param)\n",
        "bn_param['mode'] = 'test'\n",
        "X = np.random.randn(N, D1)\n",
        "a = np.maximum(0, X.dot(W1)).dot(W2)\n",
        "a_norm, _ = batchnorm_forward(a, gamma, beta, bn_param)\n",
        "\n",
        "# Means should be close to zero and stds close to one, but will be\n",
        "# noisier than training-time forward passes.\n",
        "print ('After batch normalization (test-time):')\n",
        "print ('  means: ', a_norm.mean(axis=0))\n",
        "print ('  stds: ', a_norm.std(axis=0))\n",
        "expected_a_norm = np.array(\n",
        "    [[-7.37859885e-01,  2.10050591e+00, -3.24286480e-01],\n",
        "    [ 2.02781031e+00,  1.92492178e-01,  1.54852388e+00],\n",
        "    [ 5.44242949e-01,  1.07389911e+00,  8.06464618e-01],\n",
        "    [-2.25599789e-02,  7.64501325e-01, -3.03045313e-01],\n",
        "    [-9.74592587e-01,  6.01731799e-01, -6.57200019e-03]])\n",
        "print ('Abs error of a_norm: ', abs_error(a_norm[:5, :], expected_a_norm))"
      ]
    },
    {
      "cell_type": "markdown",
      "metadata": {
        "id": "4SgMV9pFXQcb"
      },
      "source": [
        "### Batch Normalization: backward\n",
        "Now implement the backward pass for batch normalization in the function `batchnorm_backward`.\n",
        "\n",
        "To derive the backward pass you should refer to the computation graph for batch normalization and backprop through each of the intermediate nodes that you have drawn earlier. Some intermediates may have multiple outgoing branches; make sure to sum gradients across these branches in the backward pass.\n",
        "\n",
        "Once you have finished, run the following to numerically check your backward pass."
      ]
    },
    {
      "cell_type": "code",
      "execution_count": 12,
      "metadata": {
        "id": "KDxkLx3gXQcb",
        "colab": {
          "base_uri": "https://localhost:8080/"
        },
        "outputId": "4299402d-4e42-4d65-86b4-10b5cf612c1a"
      },
      "outputs": [
        {
          "output_type": "stream",
          "name": "stdout",
          "text": [
            "dx error:  5.125074304672876e-09\n",
            "dgamma error:  7.370321282466152e-12\n",
            "dbeta error:  1.615900662458448e-11\n"
          ]
        }
      ],
      "source": [
        "# Gradient check batchnorm backward pass\n",
        "\n",
        "N, D = 4, 5\n",
        "x = 5 * np.random.randn(N, D) + 12\n",
        "gamma = np.random.randn(D)\n",
        "beta = np.random.randn(D)\n",
        "dout = np.random.randn(N, D)\n",
        "\n",
        "bn_param = {'mode': 'train'}\n",
        "fx = lambda x: batchnorm_forward(x, gamma, beta, bn_param)[0]\n",
        "fg = lambda gamma: batchnorm_forward(x, gamma, beta, bn_param)[0]\n",
        "fb = lambda beta: batchnorm_forward(x, gamma, beta, bn_param)[0]\n",
        "\n",
        "dx_num = eval_numerical_gradient_array(fx, x, dout)\n",
        "da_num = eval_numerical_gradient_array(fg, gamma, dout)\n",
        "db_num = eval_numerical_gradient_array(fb, beta, dout)\n",
        "\n",
        "_, cache = batchnorm_forward(x, gamma, beta, bn_param)\n",
        "dx, dgamma, dbeta = batchnorm_backward(dout, cache)\n",
        "print ('dx error: ', rel_error(dx_num, dx))\n",
        "print ('dgamma error: ', rel_error(da_num, dgamma))\n",
        "print ('dbeta error: ', rel_error(db_num, dbeta))"
      ]
    },
    {
      "cell_type": "markdown",
      "metadata": {
        "id": "AfL5UwL-XQcb"
      },
      "source": [
        "## Batch Normalization: alternative backward (Optional)\n",
        "There are two strategies to implement batch normalization of an operator consists of multiple parts:\n",
        "\n",
        "1. Write out a computation graph composed of simple operations and backprop through all intermediate values. This is the general principal of automatic backpropagation in deep learning framework.\n",
        "\n",
        "1. Work out the derivatives on paper. This usually applies to some operators to achieve better numerical stability or computational efficiency, such as `softmax + cross entropy` or `sigmoid + binary cross entropy`.\n",
        "\n",
        "Surprisingly, it turns out that you can also derive a simple expression for the batch normalization backward pass if you work out derivatives on paper and simplify.\n",
        "\n",
        "### Question (Optional)\n",
        "**Derive the closed-form back-propagation of a batch normalization layer (during training).** Include the answer in your written assignment.\n",
        "\n",
        "Specifically, given $\\mathrm{dy}_{i,j} = \\dfrac{\\partial \\mathcal{L}}{\\partial Y_{i,j}}$ for every $i,j$, Please derive $\\dfrac{\\partial \\mathcal{L}}{\\partial X_{i,j}}$ for every $i,j$ as a function of $\\mathrm{dy}, \\mathbf{X}, \\mu, \\sigma^2, \\epsilon, \\gamma, \\beta$.\n"
      ]
    },
    {
      "cell_type": "markdown",
      "metadata": {
        "id": "ZslqX-IIXQcb"
      },
      "source": [
        "After doing so (and additionally deriving $\\dfrac{\\partial \\mathcal{L}}{\\partial \\gamma_j}$ and $\\dfrac{\\partial \\mathcal{L}}{\\partial \\beta_j}$ for each $j$), implement the simplified batch normalization backward pass in the function `batchnorm_backward_alt` and compare the two implementations by running the following. Your two implementations should compute nearly identical results, but the alternative implementation should be a bit faster."
      ]
    },
    {
      "cell_type": "code",
      "execution_count": null,
      "metadata": {
        "id": "Rf6zRmHZXQcb"
      },
      "outputs": [],
      "source": [
        "N, D = 100, 500\n",
        "x = 5 * np.random.randn(N, D) + 12\n",
        "gamma = np.random.randn(D)\n",
        "beta = np.random.randn(D)\n",
        "dout = np.random.randn(N, D)\n",
        "\n",
        "bn_param = {'mode': 'train'}\n",
        "out, cache = batchnorm_forward(x, gamma, beta, bn_param)\n",
        "\n",
        "t1 = time.time()\n",
        "# repeat backwards passes multiple times for stability\n",
        "for r in range(1000):\n",
        "    dx1, dgamma1, dbeta1 = batchnorm_backward(dout, cache)\n",
        "t2 = time.time()\n",
        "for r in range(1000):\n",
        "    dx2, dgamma2, dbeta2 = batchnorm_backward_alt(dout, cache)\n",
        "t3 = time.time()\n",
        "\n",
        "print ('dx difference: ', rel_error(dx1, dx2))\n",
        "print ('dgamma difference: ', rel_error(dgamma1, dgamma2))\n",
        "print ('dbeta difference: ', rel_error(dbeta1, dbeta2))\n",
        "print ('speedup: %.2fx' % ((t2 - t1) / (t3 - t2)))"
      ]
    },
    {
      "cell_type": "markdown",
      "metadata": {
        "id": "jk_zibCcXQcb"
      },
      "source": [
        "## Fully Connected Nets with Batch Normalization\n",
        "Now that you have a working implementation for batch normalization, go back to your `FullyConnectedNet` in the file `deeplearning/classifiers/fc_net.py`. Modify your implementation to add batch normalization.\n",
        "\n",
        "Concretely, when the flag `use_batchnorm` is `True` in the constructor, you should insert a batch normalization layer before each ReLU nonlinearity. The outputs from the last layer of the network should not be normalized. Once you are done, run the following to gradient-check your implementation.\n",
        "\n",
        "HINT: You might find it useful to define an additional helper layer similar to those in the file `deeplearning/layer_utils.py`. If you decide to do so, do it in the file `deeplearning/classifiers/fc_net.py`."
      ]
    },
    {
      "cell_type": "code",
      "execution_count": null,
      "metadata": {
        "id": "VUaByKA1XQcb"
      },
      "outputs": [],
      "source": [
        "N, D, H1, H2, C = 2, 15, 20, 30, 10\n",
        "\n",
        "model = FullyConnectedNet([H1, H2], input_dim=D, num_classes=C,\n",
        "                            reg=0, weight_scale=5e-2, dtype=np.float64,\n",
        "                            use_batchnorm=True)\n",
        "model.params['W1'] = np.linspace(-0.7, 0.3, num=D*H1).reshape(D, H1)\n",
        "model.params['b1'] = np.linspace(-0.1, 0.9, num=H1)\n",
        "model.params['W2'] = np.linspace(-0.3, 0.4, num=H1*H2).reshape(H1, H2)\n",
        "model.params['b2'] = np.linspace(-0.9, 0.1, num=H2)\n",
        "model.params['W3'] = np.linspace(-0.3, 0.4, num=H2*C).reshape(H2, C)\n",
        "model.params['b3'] = np.linspace(-0.9, 0.1, num=C)\n",
        "X = np.linspace(-5.5, 4.5, num=N*D).reshape(D, N).T\n",
        "\n",
        "expected_bn_forward_output = np.array([[0.28397701, 0.46532063, 0.64666426, 0.82800788, 1.0093515, 1.19069513,\n",
        "                                            1.37203875, 1.55338238,  1.734726, 1.91606962],\n",
        "                                       [-0.9, -0.78888889, -0.67777778, -0.56666667, -0.45555556, -0.34444444,\n",
        "                                            -0.23333333, -0.12222222, -0.01111111, 0.1]])\n",
        "\n",
        "# Checks if initial forward pass is correct with batchnorm\n",
        "init_scores = model.loss(X)\n",
        "print('initial predictions error: %.2e' % rel_error(init_scores, expected_bn_forward_output))\n",
        "\n",
        "X = np.random.randn(N, D)\n",
        "y = np.random.randint(C, size=(N,))\n",
        "\n",
        "for reg in [0, 3.14]:\n",
        "    print ('Running check with reg = ', reg)\n",
        "    model = FullyConnectedNet([H1, H2], input_dim=D, num_classes=C,\n",
        "                            reg=reg, weight_scale=5e-2, dtype=np.float64,\n",
        "                            use_batchnorm=True)\n",
        "\n",
        "\n",
        "    loss, grads = model.loss(X, y)\n",
        "    print ('Initial loss: ', loss)\n",
        "\n",
        "    for name in sorted(grads):\n",
        "        f = lambda _: model.loss(X, y)[0]\n",
        "        grad_num = eval_numerical_gradient(f, model.params[name], verbose=False, h=1e-5)\n",
        "        print ('%s relative error: %.2e' % (name, rel_error(grad_num, grads[name])))\n",
        "    if reg == 0: print"
      ]
    },
    {
      "cell_type": "markdown",
      "metadata": {
        "id": "pJ16AAcxXQcb"
      },
      "source": [
        "## Batchnorm for deep networks\n",
        "Run the following to train a six-layer network on a subset of 1000 training examples both with and without batch normalization."
      ]
    },
    {
      "cell_type": "code",
      "execution_count": null,
      "metadata": {
        "id": "245QpRD5XQcc"
      },
      "outputs": [],
      "source": [
        "#debugging\n",
        "from deeplearning.layers import *\n",
        "from deeplearning.classifiers.fc_net import *\n",
        "\n",
        "# Try training a very deep net with batchnorm\n",
        "hidden_dims = [100, 100, 100, 100, 100]\n",
        "\n",
        "num_train = 1000\n",
        "small_data = {\n",
        "  'X_train': data['X_train'][:num_train],\n",
        "  'y_train': data['y_train'][:num_train],\n",
        "  'X_val': data['X_val'],\n",
        "  'y_val': data['y_val'],\n",
        "}\n",
        "\n",
        "weight_scale = 2e-2\n",
        "bn_model = FullyConnectedNet(hidden_dims, weight_scale=weight_scale, use_batchnorm=True)\n",
        "model = FullyConnectedNet(hidden_dims, weight_scale=weight_scale, use_batchnorm=False)\n",
        "np.random.seed(seed)\n",
        "bn_solver = Solver(bn_model, small_data,\n",
        "                num_epochs=10, batch_size=50,\n",
        "                update_rule='adam',\n",
        "                optim_config={\n",
        "                  'learning_rate': 1e-3,\n",
        "                },\n",
        "                verbose=True, print_every=200)\n",
        "bn_solver.train()\n",
        "\n",
        "np.random.seed(seed)\n",
        "solver = Solver(model, small_data,\n",
        "                num_epochs=10, batch_size=50,\n",
        "                update_rule='adam',\n",
        "                optim_config={\n",
        "                  'learning_rate': 1e-3,\n",
        "                },\n",
        "                verbose=True, print_every=200)\n",
        "solver.train()"
      ]
    },
    {
      "cell_type": "markdown",
      "metadata": {
        "id": "fHbXDvnPXQcc"
      },
      "source": [
        "Run the following to visualize the results from two networks trained above and record the results of the experiment. You should find that using batch normalization helps the network to converge faster."
      ]
    },
    {
      "cell_type": "code",
      "execution_count": null,
      "metadata": {
        "id": "7SNsyV2sXQcc"
      },
      "outputs": [],
      "source": [
        "plt.subplot(3, 1, 1)\n",
        "plt.title('Training loss')\n",
        "plt.xlabel('Iteration')\n",
        "\n",
        "plt.subplot(3, 1, 2)\n",
        "plt.title('Training accuracy')\n",
        "plt.xlabel('Epoch')\n",
        "\n",
        "plt.subplot(3, 1, 3)\n",
        "plt.title('Validation accuracy')\n",
        "plt.xlabel('Epoch')\n",
        "\n",
        "plt.subplot(3, 1, 1)\n",
        "plt.plot(solver.loss_history, '-', label='baseline')\n",
        "plt.plot(bn_solver.loss_history, '-', label='batchnorm')\n",
        "\n",
        "plt.subplot(3, 1, 2)\n",
        "plt.plot(solver.train_acc_history, '-o', label='baseline')\n",
        "plt.plot(bn_solver.train_acc_history, '-o', label='batchnorm')\n",
        "\n",
        "plt.subplot(3, 1, 3)\n",
        "plt.plot(solver.val_acc_history, '-o', label='baseline')\n",
        "plt.plot(bn_solver.val_acc_history, '-o', label='batchnorm')\n",
        "\n",
        "for i in [1, 2, 3]:\n",
        "    plt.subplot(3, 1, i)\n",
        "    plt.legend(loc='upper center', ncol=4)\n",
        "plt.gcf().set_size_inches(15, 15)\n",
        "plt.show()\n",
        "\n",
        "solver.record_histories_as_npz('submission_logs/compare_bn_deep_networks_no_bn.npz')\n",
        "bn_solver.record_histories_as_npz('submission_logs/compare_bn_deep_networks_with_bn.npz')"
      ]
    },
    {
      "cell_type": "markdown",
      "metadata": {
        "id": "1gTL8cQOXQcc"
      },
      "source": [
        "## Batch normalization and initialization\n",
        "We will now run a small experiment to study the interaction of batch normalization and weight initialization.\n",
        "\n",
        "The first cell will train 8-layer networks both with and without batch normalization using different scales for weight initialization. The second layer will plot training accuracy, validation set accuracy, and training loss as a function of the weight initialization scale."
      ]
    },
    {
      "cell_type": "code",
      "execution_count": null,
      "metadata": {
        "id": "imhdx1a_XQcc"
      },
      "outputs": [],
      "source": [
        "# Try training a very deep net with batchnorm\n",
        "hidden_dims = [50, 50, 50, 50, 50, 50, 50]\n",
        "\n",
        "num_train = 1000\n",
        "small_data = {\n",
        "  'X_train': data['X_train'][:num_train],\n",
        "  'y_train': data['y_train'][:num_train],\n",
        "  'X_val': data['X_val'],\n",
        "  'y_val': data['y_val'],\n",
        "}\n",
        "\n",
        "bn_solvers = {}\n",
        "solvers = {}\n",
        "weight_scales = np.logspace(-4, 0, num=20)\n",
        "for i, weight_scale in enumerate(weight_scales):\n",
        "    print ('Running weight scale %d / %d' % (i + 1, len(weight_scales)))\n",
        "    bn_model = FullyConnectedNet(hidden_dims, weight_scale=weight_scale, use_batchnorm=True)\n",
        "    model = FullyConnectedNet(hidden_dims, weight_scale=weight_scale, use_batchnorm=False)\n",
        "\n",
        "    np.random.seed(seed)\n",
        "    bn_solver = Solver(bn_model, small_data,\n",
        "                  num_epochs=10, batch_size=50,\n",
        "                  update_rule='adam',\n",
        "                  optim_config={\n",
        "                    'learning_rate': 1e-3,\n",
        "                  },\n",
        "                  verbose=False, print_every=200)\n",
        "    bn_solver.train()\n",
        "    bn_solvers[weight_scale] = bn_solver\n",
        "\n",
        "    np.random.seed(seed)\n",
        "    solver = Solver(model, small_data,\n",
        "                  num_epochs=10, batch_size=50,\n",
        "                  update_rule='adam',\n",
        "                  optim_config={\n",
        "                    'learning_rate': 1e-3,\n",
        "                  },\n",
        "                  verbose=False, print_every=200)\n",
        "    solver.train()\n",
        "    solvers[weight_scale] = solver"
      ]
    },
    {
      "cell_type": "code",
      "execution_count": null,
      "metadata": {
        "id": "y2DL-1fnXQcc"
      },
      "outputs": [],
      "source": [
        "# Plot results of weight scale experiment\n",
        "best_train_accs, bn_best_train_accs = [], []\n",
        "best_val_accs, bn_best_val_accs = [], []\n",
        "final_train_loss, bn_final_train_loss = [], []\n",
        "\n",
        "for i, ws in enumerate(weight_scales):\n",
        "    best_train_accs.append(max(solvers[ws].train_acc_history))\n",
        "    bn_best_train_accs.append(max(bn_solvers[ws].train_acc_history))\n",
        "\n",
        "    best_val_accs.append(max(solvers[ws].val_acc_history))\n",
        "    bn_best_val_accs.append(max(bn_solvers[ws].val_acc_history))\n",
        "\n",
        "    final_train_loss.append(np.mean(solvers[ws].loss_history[-100:]))\n",
        "    bn_final_train_loss.append(np.mean(bn_solvers[ws].loss_history[-100:]))\n",
        "\n",
        "\n",
        "    solvers[ws].record_histories_as_npz('submission_logs/bn_and_weight_scale_experiments_scale{}_no_bn.npz'.format(i))\n",
        "    bn_solvers[ws].record_histories_as_npz('submission_logs/bn_and_weight_scale_experiments_scale{}_with_bn.npz'.format(i))\n",
        "\n",
        "plt.subplot(3, 1, 1)\n",
        "plt.title('Best val accuracy vs weight initialization scale')\n",
        "plt.xlabel('Weight initialization scale')\n",
        "plt.ylabel('Best val accuracy')\n",
        "plt.semilogx(weight_scales, best_val_accs, '-o', label='baseline')\n",
        "plt.semilogx(weight_scales, bn_best_val_accs, '-o', label='batchnorm')\n",
        "plt.legend(ncol=2, loc='lower right')\n",
        "\n",
        "plt.subplot(3, 1, 2)\n",
        "plt.title('Best train accuracy vs weight initialization scale')\n",
        "plt.xlabel('Weight initialization scale')\n",
        "plt.ylabel('Best training accuracy')\n",
        "plt.semilogx(weight_scales, best_train_accs, '-o', label='baseline')\n",
        "plt.semilogx(weight_scales, bn_best_train_accs, '-o', label='batchnorm')\n",
        "plt.legend()\n",
        "\n",
        "plt.subplot(3, 1, 3)\n",
        "plt.title('Final training loss vs weight initialization scale')\n",
        "plt.xlabel('Weight initialization scale')\n",
        "plt.ylabel('Final training loss')\n",
        "plt.semilogx(weight_scales, final_train_loss, '-o', label='baseline')\n",
        "plt.semilogx(weight_scales, bn_final_train_loss, '-o', label='batchnorm')\n",
        "plt.legend()\n",
        "\n",
        "plt.gcf().set_size_inches(10, 15)\n",
        "plt.show()"
      ]
    },
    {
      "cell_type": "markdown",
      "metadata": {
        "id": "KjX8spfUXQcc"
      },
      "source": [
        "# Dropout\n",
        "Dropout [1] is a technique for regularizing neural networks by randomly setting some features to zero during the forward pass. In this exercise you will implement a dropout layer and modify your fully-connected network to optionally use dropout.\n",
        "\n",
        "[1] Geoffrey E. Hinton et al, \"Improving neural networks by preventing co-adaptation of feature detectors\", arXiv 2012"
      ]
    },
    {
      "cell_type": "markdown",
      "metadata": {
        "id": "v7NuxgD6XQcc"
      },
      "source": [
        "## Dropout forward pass\n",
        "In the file `deeplearning/layers.py`, implement the forward pass for dropout. Since dropout behaves differently during training and testing, make sure to implement the operation for both modes. Input means should be approximately the same as the output means at both train/test time.\n",
        "\n",
        "Once you have done so, run the cell below to test your implementation."
      ]
    },
    {
      "cell_type": "code",
      "execution_count": null,
      "metadata": {
        "id": "OIo3wXNWXQcc"
      },
      "outputs": [],
      "source": [
        "x = np.random.randn(500, 500) + 10\n",
        "\n",
        "for p in [0.3, 0.6, 0.75]:\n",
        "    out, _ = dropout_forward(x, {'mode': 'train', 'p': p})\n",
        "    out_test, _ = dropout_forward(x, {'mode': 'test', 'p': p})\n",
        "\n",
        "    print ('Running tests with p = ', p)\n",
        "    print ('Mean of input: ', x.mean())\n",
        "    # expected: (approx.) 10, 10, 10\n",
        "    print ('Mean of train-time output: ', out.mean())\n",
        "    # expected: (approx.) 10, 10, 10\n",
        "    print ('Mean of test-time output: ', out_test.mean())\n",
        "    # expected: (approx.) 10, 10, 10\n",
        "    print ('Fraction of train-time output set to zero: ', (out == 0).mean())\n",
        "    # expected: (approx.) 0.3, 0.6, 0.75\n",
        "    print ('Fraction of test-time output set to zero: ', (out_test == 0).mean())\n",
        "    # expected: (approx.) 0.0, 0.0, 0.0"
      ]
    },
    {
      "cell_type": "markdown",
      "metadata": {
        "id": "frQQR8gdXQcc"
      },
      "source": [
        "## Dropout backward pass\n",
        "In the file `deeplearning/layers.py`, implement the backward pass for dropout. After doing so, run the following cell to numerically gradient-check your implementation."
      ]
    },
    {
      "cell_type": "code",
      "execution_count": null,
      "metadata": {
        "id": "LwXxpkVPXQcc"
      },
      "outputs": [],
      "source": [
        "x = np.random.randn(10, 10) + 10\n",
        "dout = np.random.randn(*x.shape)\n",
        "\n",
        "dropout_param = {'mode': 'train', 'p': 0.8, 'seed': 123}\n",
        "out, cache = dropout_forward(x, dropout_param)\n",
        "dx = dropout_backward(dout, cache)\n",
        "dx_num = eval_numerical_gradient_array(lambda xx: dropout_forward(xx, dropout_param)[0], x, dout)\n",
        "\n",
        "print ('dx relative error: ', rel_error(dx, dx_num))"
      ]
    },
    {
      "cell_type": "markdown",
      "metadata": {
        "id": "r76rUXKsXQcd"
      },
      "source": [
        "## Fully-connected nets with Dropout\n",
        "In the file `deeplearning/classifiers/fc_net.py`, modify your implementation to use dropout. Specificially, if the constructor the the net receives a nonzero value for the `dropout` parameter, then the net should add dropout immediately after every ReLU nonlinearity. After doing so, run the following to numerically gradient-check your implementation."
      ]
    },
    {
      "cell_type": "code",
      "execution_count": null,
      "metadata": {
        "id": "reJpLkTeXQcd"
      },
      "outputs": [],
      "source": [
        "N, D, H1, H2, C = 2, 15, 20, 30, 10\n",
        "X = np.random.randn(N, D)\n",
        "y = np.random.randint(C, size=(N,))\n",
        "\n",
        "for dropout in [0, 0.25, 0.5]:\n",
        "    print ('Running check with dropout = ', dropout)\n",
        "    model = FullyConnectedNet([H1, H2], input_dim=D, num_classes=C,\n",
        "                            weight_scale=5e-2, dtype=np.float64,\n",
        "                            dropout=dropout, seed=123)\n",
        "\n",
        "    loss, grads = model.loss(X, y)\n",
        "    print ('Initial loss: ', loss)\n",
        "\n",
        "    for name in sorted(grads):\n",
        "        f = lambda _: model.loss(X, y)[0]\n",
        "        grad_num = eval_numerical_gradient(f, model.params[name], verbose=False, h=1e-5)\n",
        "        print ('%s relative error: %.2e' % (name, rel_error(grad_num, grads[name])))\n",
        "    print"
      ]
    },
    {
      "cell_type": "markdown",
      "metadata": {
        "id": "25DE3tfZXQcd"
      },
      "source": [
        "## Regularization experiment\n",
        "As an experiment, we will train a pair of two-layer networks on 500 training examples: one will use no dropout, and one will use a dropout probability of 0.5. We will then visualize the training and validation accuracies of the two networks over time."
      ]
    },
    {
      "cell_type": "code",
      "execution_count": null,
      "metadata": {
        "id": "dAJSs0gGXQcd"
      },
      "outputs": [],
      "source": [
        "# Train two identical nets, one with dropout and one without\n",
        "\n",
        "num_train = 500\n",
        "small_data = {\n",
        "  'X_train': data['X_train'][:num_train],\n",
        "  'y_train': data['y_train'][:num_train],\n",
        "  'X_val': data['X_val'],\n",
        "  'y_val': data['y_val'],\n",
        "}\n",
        "\n",
        "solvers = {}\n",
        "dropout_choices = [0, 0.5]\n",
        "for dropout in dropout_choices:\n",
        "    model = FullyConnectedNet([500], dropout=dropout)\n",
        "    print (dropout)\n",
        "\n",
        "    np.random.seed(seed)\n",
        "    solver = Solver(model, small_data,\n",
        "                  num_epochs=15, batch_size=100,\n",
        "                  update_rule='adam',\n",
        "                  optim_config={\n",
        "                    'learning_rate': 5e-4,\n",
        "                  },\n",
        "                  verbose=True, print_every=100)\n",
        "    solver.train()\n",
        "    solvers[dropout] = solver"
      ]
    },
    {
      "cell_type": "code",
      "execution_count": null,
      "metadata": {
        "id": "vrslRvI_XQcd"
      },
      "outputs": [],
      "source": [
        "# Plot train and validation accuracies of the two models\n",
        "\n",
        "train_accs = []\n",
        "val_accs = []\n",
        "for dropout in dropout_choices:\n",
        "    solver = solvers[dropout]\n",
        "    train_accs.append(solver.train_acc_history[-1])\n",
        "    val_accs.append(solver.val_acc_history[-1])\n",
        "    solver.record_histories_as_npz('submission_logs/dropout_regularization_experiment_p{}.npz'.format(dropout))\n",
        "\n",
        "plt.subplot(3, 1, 1)\n",
        "for dropout in dropout_choices:\n",
        "    plt.plot(solvers[dropout].train_acc_history, '-o', label='%.2f dropout' % dropout)\n",
        "plt.title('Train accuracy')\n",
        "plt.xlabel('Epoch')\n",
        "plt.ylabel('Accuracy')\n",
        "plt.legend(ncol=2, loc='lower right')\n",
        "\n",
        "plt.subplot(3, 1, 2)\n",
        "for dropout in dropout_choices:\n",
        "    plt.plot(solvers[dropout].val_acc_history, '-o', label='%.2f dropout' % dropout)\n",
        "plt.title('Val accuracy')\n",
        "plt.xlabel('Epoch')\n",
        "plt.ylabel('Accuracy')\n",
        "plt.legend(ncol=2, loc='lower right')\n",
        "\n",
        "plt.gcf().set_size_inches(15, 15)\n",
        "plt.show()"
      ]
    },
    {
      "cell_type": "markdown",
      "metadata": {
        "id": "3uyeqS5FXQcd"
      },
      "source": [
        "### Question:\n",
        "**Explain what you see in this experiment. What does it suggest about dropout?** Write your answer on the written assignment."
      ]
    }
  ],
  "metadata": {
    "colab": {
      "provenance": []
    },
    "language_info": {
      "name": "python"
    },
    "kernelspec": {
      "name": "python3",
      "display_name": "Python 3"
    }
  },
  "nbformat": 4,
  "nbformat_minor": 0
}